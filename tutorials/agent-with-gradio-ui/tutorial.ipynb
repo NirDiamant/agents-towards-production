{
 "cells": [
  {
   "cell_type": "markdown",
   "id": "530b9b63",
   "metadata": {},
   "source": [
    "# 🤖 Multi-Agent AI Collaboration Hub Tutorial\n",
    "\n",
    "**Building Production-Ready AI Agent Interfaces with Gradio and OpenAI**\n",
    "\n",
    "Welcome to this comprehensive tutorial on building sophisticated multi-agent AI systems with modern Gradio UI interfaces. This tutorial demonstrates how to create production-grade applications where multiple AI agents collaborate to complete complex tasks.\n",
    "\n",
    "---\n",
    "\n",
    "## 📚 What You'll Learn\n",
    "\n",
    "By the end of this tutorial, you'll understand how to:\n",
    "\n",
    "1. **Design Multi-Agent Systems** - Architecture patterns for agent collaboration\n",
    "2. **Integrate OpenAI GPT Models** - Real AI agents using large language models\n",
    "3. **Build Production UI** - Professional Gradio interfaces with real-time monitoring\n",
    "4. **Handle Async Operations** - Managing concurrent AI agent workflows\n",
    "5. **Implement Error Handling** - Robust production-ready error management\n",
    "6. **Monitor Agent Performance** - Real-time status tracking and debugging"
   ]
  },
  {
   "cell_type": "markdown",
   "id": "33bb3f5d",
   "metadata": {},
   "source": [
    "## 🏗️ System Architecture\n",
    "\n",
    "Our Multi-Agent Hub follows a **sequential collaboration pattern** where specialized AI agents work together in a structured workflow:"
   ]
  },
  {
   "cell_type": "markdown",
   "id": "ca8a2a89",
   "metadata": {},
   "source": [
    "Research Agent → Writer Agent → Reviewer Agent<br>\n",
    "↓               ↓              ↓<br>\n",
    "Status Monitor ← Status Monitor ← Status Monitor<br>\n",
    "↓               ↓              ↓<br>\n",
    "Real-time Gradio Interface<br>"
   ]
  },
  {
   "cell_type": "markdown",
   "id": "27e44573",
   "metadata": {},
   "source": [
    "### 🔍 **Research Agent**\n",
    "- **Purpose**: Analyzes topics and gathers comprehensive information\n",
    "- **AI Model**: GPT-4o-mini for research planning and analysis\n",
    "- **Capabilities**: Topic analysis, research planning, information synthesis\n",
    "\n",
    "### ✍️ **Writer Agent** \n",
    "- **Purpose**: Creates high-quality content based on research findings\n",
    "- **AI Model**: GPT-4o-mini for content generation\n",
    "- **Capabilities**: Multiple writing styles, content optimization, audience targeting\n",
    "\n",
    "### 📝 **Reviewer Agent**\n",
    "- **Purpose**: Quality assurance and content improvement\n",
    "- **AI Model**: GPT-4o-mini for quality assessment\n",
    "- **Capabilities**: Content analysis, fact-checking, improvement suggestions"
   ]
  },
  {
   "cell_type": "markdown",
   "id": "f640fc3e",
   "metadata": {},
   "source": [
    "# Install required packages\n",
    "!pip install gradio>=4.0.0 openai>=1.3.0 python-dotenv aiohttp"
   ]
  },
  {
   "cell_type": "markdown",
   "id": "61779d5e",
   "metadata": {},
   "source": [
    "# Set up environment variables\n",
    "import os\n",
    "from dotenv import load_dotenv\n",
    "\n",
    "# Load environment variables from .env file\n",
    "load_dotenv()\n",
    "\n",
    "# Check if OpenAI API key is configured\n",
    "api_key = os.getenv('OPENAI_API_KEY')<br>\n",
    "if api_key:<br>\n",
    "    print(\"✅ OpenAI API key found and configured\")<br>\n",
    "    print(f\"   Key preview: {api_key[:10]}...{api_key[-4:]}\")<br>\n",
    "else:<br>\n",
    "    print(\"❌ OpenAI API key not found\")<br>\n",
    "    print(\"   Please set OPENAI_API_KEY environment variable\")<br>\n",
    "    print(\"   Example: os.environ['OPENAI_API_KEY'] = 'your-key-here'\")<br>"
   ]
  },
  {
   "cell_type": "markdown",
   "id": "01c62989",
   "metadata": {},
   "source": [
    "## 🎯 Live Demo and Interface Overview\n",
    "\n",
    "Let's look at the actual interface you'll be building:\n",
    "\n",
    "![Agent with gradio ui](assets/screen.png)\n",
    "\n",
    "### 🖥️ Interface Components\n",
    "\n",
    "The interface consists of several key areas:\n",
    "\n",
    "1. **📋 Task Configuration Panel** (Left Side)\n",
    "   - Task description input\n",
    "   - Requirements specification\n",
    "   - Agent configuration sliders\n",
    "\n",
    "2. **📊 Real-time Status Monitor** (Right Side)\n",
    "   - Live agent status updates\n",
    "   - Progress tracking\n",
    "   - Error reporting\n",
    "\n",
    "3. **📄 Results Display** (Bottom)\n",
    "   - Comprehensive output from all agents\n",
    "   - Formatted markdown with clear sections\n",
    "   - Collaboration summary"
   ]
  },
  {
   "cell_type": "markdown",
   "id": "f7c92bf1",
   "metadata": {},
   "source": [
    "## Complete Usage Example: Electric Vehicle Market Analysis\n",
    "\n",
    "Let's walk through a complete example demonstrating the multi-agent collaboration:\n",
    "\n",
    "### Step 1: Configure Your Task\n",
    "\n",
    "**Task Description:**"
   ]
  },
  {
   "cell_type": "markdown",
   "id": "d226a8fc",
   "metadata": {},
   "source": [
    "Analyze the current trends in electric vehicle adoption and market growth"
   ]
  },
  {
   "cell_type": "markdown",
   "id": "d44c24ee",
   "metadata": {},
   "source": [
    "**Requirements:**"
   ]
  },
  {
   "cell_type": "markdown",
   "id": "eec673d4",
   "metadata": {},
   "source": [
    "Include recent statistics, focus on Tesla and other major manufacturers,\n",
    "target business audience, around 500 words"
   ]
  },
  {
   "cell_type": "markdown",
   "id": "a25a6828",
   "metadata": {},
   "source": [
    "**Agent Configuration:**\n",
    "- Research Depth: 6 (moderate thoroughness)\n",
    "- Writing Style: Professional\n",
    "- Review Strictness: 7 (fairly strict)\n",
    "\n",
    "### Step 2: Watch Real-Time Collaboration\n",
    "\n",
    "After clicking \"Start AI Agent Collaboration\", you'll see live updates:"
   ]
  },
  {
   "cell_type": "markdown",
   "id": "95a68e26",
   "metadata": {},
   "source": [
    "🚀 10:30:15 | Research Agent: Analyzing topic and gathering information...<br>\n",
    "✅ 10:30:18 | Research Agent: Research completed successfully!<br>\n",
    "🚀 10:30:18 | Writer Agent: Creating professional content...<br>\n",
    "✅ 10:30:22 | Writer Agent: Content creation completed!<br>\n",
    "🚀 10:30:22 | Reviewer Agent: Reviewing content (strictness: 7/10)...<br>\n",
    "✅ 10:30:26 | Reviewer Agent: Quality review completed!<br>\n",
    "🎉 10:30:26 | System: All AI agents completed successfully!<br>"
   ]
  },
  {
   "cell_type": "markdown",
   "id": "0be5b38f",
   "metadata": {},
   "source": [
    "![Agent with gradio ui resutls](assets/results.png)"
   ]
  },
  {
   "cell_type": "markdown",
   "id": "f21e2407",
   "metadata": {},
   "source": [
    "### Step 3: Review Comprehensive Results\n",
    "\n",
    "The system produces a structured report with three main sections:\n",
    "\n",
    "**Research Report Section:**\n",
    "- Executive summary of EV market trends\n",
    "- Key findings with statistics and data\n",
    "- Market analysis and competitive landscape\n",
    "- Future projections and opportunities\n",
    "\n",
    "**Professional Content Section:**\n",
    "- Well-structured business article\n",
    "- Clear headings and logical flow\n",
    "- Professional tone for business audience\n",
    "- Actionable insights and recommendations\n",
    "\n",
    "**Quality Review Section:**\n",
    "- Overall assessment score (e.g., 8.5/10)\n",
    "- Identified strengths and improvements\n",
    "- Specific recommendations for enhancement\n",
    "- Final publication readiness verdict"
   ]
  }
 ],
 "metadata": {
  "language_info": {
   "name": "python"
  }
 },
 "nbformat": 4,
 "nbformat_minor": 5
}
